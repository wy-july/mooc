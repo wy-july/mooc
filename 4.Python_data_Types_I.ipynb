{
 "cells": [
  {
   "cell_type": "markdown",
   "id": "f9e0c758-6834-476e-bb44-f5b2e113bced",
   "metadata": {},
   "source": [
    "## Python: Lists and Tuples\n",
    "- Lists, tuples and strings are sequences (consecutive data) in Python Standard Libraries.\n",
    "- Arguments (elements) are consecutive and have index starting from zero."
   ]
  },
  {
   "cell_type": "markdown",
   "id": "b8397ee8-835c-4d31-950d-3dba3b1a8ac8",
   "metadata": {},
   "source": [
    "__1. Lists: concept, indexing, and slicing__\n",
    "- Lists typically store homogeneous data in order.\n",
    "- Hoewever, they can store heterogeneous data and mutable (modifiable).\n",
    "- Lists are denoted by square bracket [], in which data items (elements) are put.\n",
    "- A list's index for elements starts from zero."
   ]
  },
  {
   "cell_type": "code",
   "execution_count": 1,
   "id": "16080008-3ad9-4d0f-826f-b8ed5c008b01",
   "metadata": {},
   "outputs": [
    {
     "name": "stdout",
     "output_type": "stream",
     "text": [
      "<class 'list'> [1, 2, 3, 4, 5, 6, 11, 'a', 'b']\n"
     ]
    }
   ],
   "source": [
    "# An example of list\n",
    "list1 = [1, 2, 3,4,5, 6, 11, 'a', 'b']\n",
    "print(type(list1), list1)"
   ]
  },
  {
   "cell_type": "code",
   "execution_count": 2,
   "id": "a3f04932-fde1-4119-8986-6f93a756f10d",
   "metadata": {},
   "outputs": [
    {
     "name": "stdout",
     "output_type": "stream",
     "text": [
      "2 a\n",
      "[3, 4, 5]\n",
      "[1, 2, 3, 4, 5, 6, 11]\n",
      "[5, 6, 11, 'a', 'b']\n",
      "b\n",
      "[6, 11, 'a', 'b']\n",
      "[4, 5, 6, 11, 'a', 'b']\n"
     ]
    }
   ],
   "source": [
    "# Access elements with indexes (slicing)\n",
    "print(list1[1], list1[7])\n",
    "print(list1[2:5]) # slicing\n",
    "print(list1[:7])\n",
    "print(list1[4:])\n",
    "print(list1[-1]) # slicing: negative index from the end\n",
    "print(list1[-4:])\n",
    "print(list1[1+2:]) #index addition is possible"
   ]
  },
  {
   "cell_type": "code",
   "execution_count": 3,
   "id": "52dbfaf5-4801-4252-8d0e-0ec963b2f313",
   "metadata": {},
   "outputs": [
    {
     "data": {
      "text/plain": [
       "9"
      ]
     },
     "execution_count": 3,
     "metadata": {},
     "output_type": "execute_result"
    }
   ],
   "source": [
    "# finding the size of a list with len()\n",
    "len(list1)"
   ]
  },
  {
   "cell_type": "code",
   "execution_count": 4,
   "id": "f5d9d6bc-3135-4f99-a77a-ebc2164cd41a",
   "metadata": {},
   "outputs": [
    {
     "name": "stdout",
     "output_type": "stream",
     "text": [
      "[1, 2, 3, 4, 5, 6, 'c', 'a', 'b']\n"
     ]
    }
   ],
   "source": [
    "# A list is mutable (modifiable)\n",
    "list1[6] = 'c'\n",
    "print(list1)\n",
    "#list[9] # trying to access an element not existing"
   ]
  },
  {
   "cell_type": "code",
   "execution_count": 1,
   "id": "bd92decb-8c31-46c4-bacb-f7409c45080c",
   "metadata": {},
   "outputs": [
    {
     "name": "stdout",
     "output_type": "stream",
     "text": [
      "[11, 12, 13]\n",
      "['P', 'y', 't', 'h', 'o', 'n', ' ', 'K', 'o', 'o', 'c'] 11\n",
      "['P', 'y', 't', 'h', 'o', 'n', ' ', 'K', 'o', 'o', 'c', 'M', 'o', 'o', 'c'] 15\n"
     ]
    }
   ],
   "source": [
    "# Appending a list\n",
    "list2 = [] # An empty list is defined\n",
    "for item in range(11, 14, 1):\n",
    "    list2 += [item] # turn item into a list element\n",
    "#   list2.append(item)\n",
    "print(list2)\n",
    "\n",
    "# Appending a string to a list\n",
    "list3 = []\n",
    "list3 += 'Python Kooc'\n",
    "print (list3, len(list3))\n",
    "\n",
    "# Appending a tuple to a list\n",
    "list3 += ('M', 'o', 'o', 'c')\n",
    "print(list3, len(list3))"
   ]
  },
  {
   "cell_type": "code",
   "execution_count": 8,
   "id": "05a79155-a65f-4bfd-9af2-e18289f7c913",
   "metadata": {},
   "outputs": [
    {
     "name": "stdout",
     "output_type": "stream",
     "text": [
      "[1, 2, 3, 4, 5, 6, 'c', 'a', 'b', 11, 12, 13]\n"
     ]
    }
   ],
   "source": [
    "# Concatenating lists\n",
    "list12 = list1  + list2\n",
    "print(list12)"
   ]
  },
  {
   "cell_type": "code",
   "execution_count": 9,
   "id": "f74baed8-0c3e-4a4e-b55d-096e6c5294a3",
   "metadata": {},
   "outputs": [
    {
     "name": "stdout",
     "output_type": "stream",
     "text": [
      "(0,1) (1,2) (2,3) (3,4) (4,5) (5,6) (6,c) (7,a) (8,b) (9,11) (10,12) (11,13) "
     ]
    }
   ],
   "source": [
    "# Obtaining index and elements paired\n",
    "for i in range(len(list12)):\n",
    "    print(f'({i},{list12[i]})', end =' ')"
   ]
  },
  {
   "cell_type": "markdown",
   "id": "9260efff-79d3-4615-a49c-4fc9b1a25a42",
   "metadata": {},
   "source": [
    "__2. Tuples__\n",
    "- Immutable and typically store heterogeneous data\n",
    "- So, datasets are often stored as tuples.\n",
    "- Tuples are denoted by parenthesis (), in which data are put."
   ]
  },
  {
   "cell_type": "code",
   "execution_count": 10,
   "id": "d3d13d7e-71ec-44f0-ab01-83013c26223e",
   "metadata": {},
   "outputs": [
    {
     "name": "stdout",
     "output_type": "stream",
     "text": [
      "(10, 20, 30, 'John', 40, 50)\n"
     ]
    }
   ],
   "source": [
    "# An example of a tuple\n",
    "t1 = 10, 20, 30, 'John' # A tuple does not require ().\n",
    "t1 += (40, 50)\n",
    "print(t1)"
   ]
  },
  {
   "cell_type": "code",
   "execution_count": 11,
   "id": "5b6d1ded-c25d-4387-ab6c-a78e71876de0",
   "metadata": {},
   "outputs": [
    {
     "name": "stdout",
     "output_type": "stream",
     "text": [
      "(1, 2, 3, 4)\n",
      "3\n",
      "(1, 2, 3)\n"
     ]
    }
   ],
   "source": [
    "# Tuple indexing and slicing\n",
    "t2 = tuple([1,2,3,4]) # A tuple with a list in it.\n",
    "print(t2)\n",
    "print(t2[2])\n",
    "print(t2[:3])"
   ]
  },
  {
   "cell_type": "code",
   "execution_count": 12,
   "id": "02e5c3ad-10f2-4bff-8aa1-f1bce7cc0eb5",
   "metadata": {},
   "outputs": [
    {
     "name": "stdout",
     "output_type": "stream",
     "text": [
      "('Kim', 'Lee', 'Park', [80, 90, 100]) 4 [80, 90, 100]\n",
      "('Kim', 'Lee', 'Park', [80, 85, 100])\n"
     ]
    }
   ],
   "source": [
    "# a tuple with string and a list of grades\n",
    "# a list is mutable\n",
    "t3 = 'Kim', 'Lee', 'Park', [80,90,100]\n",
    "print(t3, len(t3), t3[3])\n",
    "t3[3][1] = 85\n",
    "print(t3)"
   ]
  },
  {
   "cell_type": "markdown",
   "id": "dca46c9b-4171-48c4-9fc4-ef041f6fd4f4",
   "metadata": {},
   "source": [
    "__3. Unpacking sequences: any sequence can be unpacked__"
   ]
  },
  {
   "cell_type": "code",
   "execution_count": 17,
   "id": "abf75209-dc93-4cb8-89fc-7b1bb6847373",
   "metadata": {},
   "outputs": [
    {
     "name": "stdout",
     "output_type": "stream",
     "text": [
      "2\n",
      "('Kim', 'Lee', 'Park') [80, 90, 100] <class 'tuple'> <class 'list'>\n",
      "80 90 100\n",
      "W I F I\n"
     ]
    }
   ],
   "source": [
    "# unpacking tuples\n",
    "t4 = (('Kim', 'Lee', 'Park'), [80,90,100])\n",
    "print(len(t4))\n",
    "last_name, grades = t4 # two objects are created\n",
    "print(last_name, grades, type(last_name), type(grades))\n",
    "\n",
    "# unpacking a list\n",
    "grade1, grade2, grade3 = grades\n",
    "print(grade1, grade2, grade3)\n",
    "\n",
    "# unpacking a string\n",
    "first, second, third, fourth = 'WIFI'\n",
    "print(first, second, third, fourth)"
   ]
  },
  {
   "cell_type": "markdown",
   "id": "ca517568-585f-436c-99f9-414f6c982804",
   "metadata": {},
   "source": [
    "__4. Enumerate: A built-in function__\n",
    "- for creating a list or tuple with index and element value."
   ]
  },
  {
   "cell_type": "code",
   "execution_count": 18,
   "id": "7ef170de-1b84-496f-a8bd-b2fd00c0f04f",
   "metadata": {},
   "outputs": [
    {
     "name": "stdout",
     "output_type": "stream",
     "text": [
      "[(0, 'red'), (1, 'yellow'), (2, 'blue'), (3, 'black'), (4, 'white')]\n",
      "((0, 'red'), (1, 'yellow'), (2, 'blue'), (3, 'black'), (4, 'white'))\n",
      "0:  red\n",
      "1:  yellow\n",
      "2:  blue\n",
      "3:  black\n",
      "4:  white\n"
     ]
    }
   ],
   "source": [
    "colors = ['red', 'yellow', 'blue', 'black', 'white']\n",
    "print(list(enumerate(colors)))\n",
    "print(tuple(enumerate(colors)))\n",
    "\n",
    "# printing index and value of the list\n",
    "for index, color in enumerate(colors):\n",
    "    print(f'{index}:  {color}')"
   ]
  },
  {
   "cell_type": "code",
   "execution_count": 21,
   "id": "6c26a1fd-2f77-4ac2-9d90-b80d0891dd25",
   "metadata": {},
   "outputs": [
    {
     "name": "stdout",
     "output_type": "stream",
     "text": [
      "Creating a bar chart:\n",
      "Index   value   Bar\n",
      "    0      19   *******************\n",
      "    1       8   ********\n",
      "    2      15   ***************\n",
      "    3       7   *******\n",
      "    4      11   ***********\n"
     ]
    }
   ],
   "source": [
    "# Creating a simple bar chart with enumerate\n",
    "bar = [19,8,15,7,11]\n",
    "print('Creating a bar chart:')\n",
    "print(f'Index{\"value\":>8}   Bar')\n",
    "for index, value in enumerate(bar):\n",
    "    print(f'{index:>5}{value:>8}   {\"*\"*value}')"
   ]
  },
  {
   "cell_type": "code",
   "execution_count": null,
   "id": "a9459220-a2bb-4127-8641-a2c066c46017",
   "metadata": {},
   "outputs": [],
   "source": []
  }
 ],
 "metadata": {
  "kernelspec": {
   "display_name": "Python 3 (ipykernel)",
   "language": "python",
   "name": "python3"
  },
  "language_info": {
   "codemirror_mode": {
    "name": "ipython",
    "version": 3
   },
   "file_extension": ".py",
   "mimetype": "text/x-python",
   "name": "python",
   "nbconvert_exporter": "python",
   "pygments_lexer": "ipython3",
   "version": "3.7.11"
  }
 },
 "nbformat": 4,
 "nbformat_minor": 5
}
