{
 "cells": [
  {
   "cell_type": "code",
   "execution_count": 1,
   "id": "fa16a80c-f467-4319-b5be-b005a15dac25",
   "metadata": {},
   "outputs": [],
   "source": [
    "import tensorflow as tf"
   ]
  },
  {
   "cell_type": "code",
   "execution_count": 6,
   "id": "6091f0cb-ef02-43d5-a5e5-3f2eafcc9788",
   "metadata": {},
   "outputs": [
    {
     "name": "stdout",
     "output_type": "stream",
     "text": [
      "tf.Tensor(b'Hello, Tonsorflow!', shape=(), dtype=string)\n"
     ]
    }
   ],
   "source": [
    "hello=tf.constant(\"Hello, Tonsorflow!\")\n",
    "print(hello)"
   ]
  },
  {
   "cell_type": "code",
   "execution_count": 7,
   "id": "7faf688f-e4b2-40b5-bd92-5100744c973f",
   "metadata": {},
   "outputs": [
    {
     "name": "stdout",
     "output_type": "stream",
     "text": [
      "myfirstcoding\n"
     ]
    }
   ],
   "source": [
    "print('myfirstcoding')"
   ]
  },
  {
   "cell_type": "code",
   "execution_count": 8,
   "id": "a8f7352c-9d49-420a-a0ec-bc56afe9495b",
   "metadata": {},
   "outputs": [
    {
     "name": "stdout",
     "output_type": "stream",
     "text": [
      "myfirstcoding\n"
     ]
    }
   ],
   "source": [
    "print('myfirstcoding')"
   ]
  },
  {
   "cell_type": "code",
   "execution_count": null,
   "id": "1dea473f-379e-4496-aec5-bb00c1fbb82a",
   "metadata": {},
   "outputs": [],
   "source": []
  }
 ],
 "metadata": {
  "kernelspec": {
   "display_name": "Python 3 (ipykernel)",
   "language": "python",
   "name": "python3"
  },
  "language_info": {
   "codemirror_mode": {
    "name": "ipython",
    "version": 3
   },
   "file_extension": ".py",
   "mimetype": "text/x-python",
   "name": "python",
   "nbconvert_exporter": "python",
   "pygments_lexer": "ipython3",
   "version": "3.7.11"
  }
 },
 "nbformat": 4,
 "nbformat_minor": 5
}
