{
 "cells": [
  {
   "cell_type": "markdown",
   "id": "b32d55cc-d07d-4976-9b2d-3eb0cfd897fb",
   "metadata": {},
   "source": [
    "## Python: Creating Functions\n",
    "- Built-in functions: int, float, print,input, type, sum, etc.\n",
    "- Now we learn how to build your own custom functions, perfoming specific tasks\n",
    "- A function starts with the keword, def, which is followed by its name starting with a lowercase letter. You may use underscores to separate words in name, say, circle_area_circum. It is recommended to put a docstring, explaining the purpose of a function, right below the definition of a function.\n",
    "- At the end we learn random number generation and importing libraries."
   ]
  },
  {
   "cell_type": "markdown",
   "id": "773c9d6a-cc10-45a9-a5f2-6450d600714b",
   "metadata": {},
   "source": [
    "__1. Creating your own functions with a single parameter__"
   ]
  },
  {
   "cell_type": "code",
   "execution_count": 1,
   "id": "840e4586-e5a7-4865-a4eb-949adabb99fd",
   "metadata": {},
   "outputs": [],
   "source": [
    "# Calculating the area and circumference of a circle\n",
    "import math # importing math module of Python for using pi\n",
    "\n",
    "def circle(radius): # defining a function called circle\n",
    "    \"\"\"Calculates area and circumference of a circle with a radius\"\"\" # a docstring\n",
    "    \n",
    "    return math.pi*radius**2, 2*math.pi*radius # End of a function"
   ]
  },
  {
   "cell_type": "code",
   "execution_count": 2,
   "id": "557927c9-b248-4ceb-a96a-f76bd2329c0e",
   "metadata": {},
   "outputs": [
    {
     "data": {
      "text/plain": [
       "(28.274333882308138, 18.84955592153876)"
      ]
     },
     "execution_count": 2,
     "metadata": {},
     "output_type": "execute_result"
    }
   ],
   "source": [
    "# calling a function and offering a radius value\n",
    "circle(3)"
   ]
  },
  {
   "cell_type": "code",
   "execution_count": 3,
   "id": "a6c19e95-3615-4455-803e-0e7aec3dd8a1",
   "metadata": {},
   "outputs": [
    {
     "name": "stdout",
     "output_type": "stream",
     "text": [
      "The area and circumference of a cercle with 3cm radius are 28.27cm squared and 18.85cm.\n"
     ]
    }
   ],
   "source": [
    "# Function calls can be embedded.\n",
    "x = 3\n",
    "print(f'The area and circumference of a cercle with {x}cm radius \\\n",
    "are {circle(x)[0]:.2f}cm squared and {circle(x)[1]:.2f}cm.')"
   ]
  },
  {
   "cell_type": "code",
   "execution_count": 4,
   "id": "8659ba56-afe5-4285-b603-60c2e5f6f057",
   "metadata": {},
   "outputs": [
    {
     "data": {
      "text/plain": [
       "\u001b[1;31mSignature:\u001b[0m \u001b[0mcircle\u001b[0m\u001b[1;33m(\u001b[0m\u001b[0mradius\u001b[0m\u001b[1;33m)\u001b[0m\u001b[1;33m\u001b[0m\u001b[1;33m\u001b[0m\u001b[0m\n",
       "\u001b[1;31mDocstring:\u001b[0m Calculates area and circumference of a circle with a radius\n",
       "\u001b[1;31mFile:\u001b[0m      c:\\users\\yeswo\\appdata\\local\\temp\\ipykernel_2980\\795191213.py\n",
       "\u001b[1;31mType:\u001b[0m      function\n"
      ]
     },
     "metadata": {},
     "output_type": "display_data"
    }
   ],
   "source": [
    "# looking up a function's docstring\n",
    "circle?"
   ]
  },
  {
   "cell_type": "markdown",
   "id": "d59a5a7f-881c-4fbe-b969-0eb2c200e139",
   "metadata": {},
   "source": [
    "__2. Creating functions with multiple parameters__"
   ]
  },
  {
   "cell_type": "code",
   "execution_count": 5,
   "id": "93e58eb0-0eea-4d8b-91e3-48ede92f7009",
   "metadata": {},
   "outputs": [],
   "source": [
    "# parameters, x and y, are comma separated and called local variables.\n",
    "def myfunction(x, y):\n",
    "    \"\"\"addition, multiplication and division\"\"\"\n",
    "    \n",
    "    return x+y, x*y, x/y"
   ]
  },
  {
   "cell_type": "code",
   "execution_count": 6,
   "id": "5e0fcad3-f653-41e4-bc89-bc3c3026dd3c",
   "metadata": {},
   "outputs": [
    {
     "data": {
      "text/plain": [
       "(21, 54, 6.0)"
      ]
     },
     "execution_count": 6,
     "metadata": {},
     "output_type": "execute_result"
    }
   ],
   "source": [
    "myfunction(18,3)"
   ]
  },
  {
   "cell_type": "code",
   "execution_count": 18,
   "id": "58e992a4-9b23-40b6-9678-f58e7ab7f8e4",
   "metadata": {},
   "outputs": [],
   "source": [
    "# A function without parameters\n",
    "def findmin():\n",
    "    \"\"\"Finding the minimum among three integers\"\"\"\n",
    "    \n",
    "    x=int(input('Enter first integer: '))\n",
    "    y=int(input('Enter second integer: '))\n",
    "    z=int(input('Enter third integer: '))\n",
    "    minimum = x\n",
    "    if y < minimum:\n",
    "        minimum = y\n",
    "    if z < minimum:\n",
    "        minimum = z\n",
    "    return minimum"
   ]
  },
  {
   "cell_type": "code",
   "execution_count": 19,
   "id": "1094a2ac-6141-49a7-b8e8-ece66fd7fdc9",
   "metadata": {},
   "outputs": [
    {
     "name": "stdin",
     "output_type": "stream",
     "text": [
      "Enter first integer:  454\n",
      "Enter second integer:  12\n",
      "Enter third integer:  56\n"
     ]
    },
    {
     "data": {
      "text/plain": [
       "12"
      ]
     },
     "execution_count": 19,
     "metadata": {},
     "output_type": "execute_result"
    }
   ],
   "source": [
    "findmin()"
   ]
  },
  {
   "cell_type": "code",
   "execution_count": 20,
   "id": "498444dc-e8eb-4f60-ae8e-b68aa228045d",
   "metadata": {},
   "outputs": [],
   "source": [
    "def findmin1(x, y, z):\n",
    "    \"\"\"Another function for finding a minimum\"\"\"\n",
    "    \n",
    "    return min(x, y, z)"
   ]
  },
  {
   "cell_type": "code",
   "execution_count": 21,
   "id": "66d98c9b-57ae-482f-93da-0af235845dd3",
   "metadata": {},
   "outputs": [
    {
     "name": "stdout",
     "output_type": "stream",
     "text": [
      "7\n",
      "3\n"
     ]
    }
   ],
   "source": [
    "print(findmin1(7,8,9))\n",
    "print(x) # printing a global variable, x."
   ]
  },
  {
   "cell_type": "code",
   "execution_count": 22,
   "id": "b223f5f7-7e1c-41a9-9cf2-f85144b2e1ee",
   "metadata": {},
   "outputs": [
    {
     "name": "stdout",
     "output_type": "stream",
     "text": [
      "Minimum is 8.\n"
     ]
    }
   ],
   "source": [
    "print(f'Minimum is {findmin1(10, 8, 9)}.')"
   ]
  },
  {
   "cell_type": "markdown",
   "id": "00cf8b0b-9466-4644-8251-966286b8e5ce",
   "metadata": {},
   "source": [
    "__3. Functions with default parameter values__"
   ]
  },
  {
   "cell_type": "code",
   "execution_count": 23,
   "id": "7bda610d-3051-4356-948e-0298db30f5c3",
   "metadata": {},
   "outputs": [],
   "source": [
    "def rectangle(width=3, height=5):\n",
    "    \"\"\"Calculating the area of a rectangle\"\"\"\n",
    "    \n",
    "    return width*height"
   ]
  },
  {
   "cell_type": "code",
   "execution_count": 24,
   "id": "c06ca974-6e42-4ab3-b3c5-97d2dc69b65c",
   "metadata": {},
   "outputs": [
    {
     "name": "stdout",
     "output_type": "stream",
     "text": [
      "15 25 20\n"
     ]
    }
   ],
   "source": [
    "print(rectangle(), rectangle(5), rectangle(4,5))"
   ]
  },
  {
   "cell_type": "code",
   "execution_count": 25,
   "id": "05f130e7-c672-4cac-9050-0c89b042dd3f",
   "metadata": {},
   "outputs": [
    {
     "name": "stdout",
     "output_type": "stream",
     "text": [
      "12 42\n"
     ]
    }
   ],
   "source": [
    "print(rectangle(height=4), rectangle(height=6, width=7))"
   ]
  },
  {
   "cell_type": "markdown",
   "id": "4c991dbb-7d38-45ee-b0dd-90acd8bb7be3",
   "metadata": {},
   "source": [
    "__4. A function taking an arbitrary number of argument__"
   ]
  },
  {
   "cell_type": "code",
   "execution_count": 26,
   "id": "1b1628cf-eb67-4578-a19b-6d1495b19c6b",
   "metadata": {},
   "outputs": [],
   "source": [
    "def my_average(*nums):\n",
    "    \"\"\"Calculating average with multiple numbers\"\"\"\n",
    "    \n",
    "    return sum(nums)/len(nums)"
   ]
  },
  {
   "cell_type": "code",
   "execution_count": 27,
   "id": "11fedb97-6a5e-4fe7-bb86-1f661925937a",
   "metadata": {},
   "outputs": [
    {
     "data": {
      "text/plain": [
       "58.6"
      ]
     },
     "execution_count": 27,
     "metadata": {},
     "output_type": "execute_result"
    }
   ],
   "source": [
    "my_average(68,23,45,67,90)"
   ]
  },
  {
   "cell_type": "code",
   "execution_count": 28,
   "id": "b243bd63-6b1d-47a9-9e41-d90ecc1ada18",
   "metadata": {},
   "outputs": [
    {
     "data": {
      "text/plain": [
       "5.5"
      ]
     },
     "execution_count": 28,
     "metadata": {},
     "output_type": "execute_result"
    }
   ],
   "source": [
    "grades = [1,2,3,4,5,6,7,8,9,10]\n",
    "my_average(*grades)"
   ]
  },
  {
   "cell_type": "markdown",
   "id": "29f1f1f7-5618-44e6-be01-ef00bc1634a8",
   "metadata": {},
   "source": [
    "__5. Main function and __ name __ variable__\n",
    "- the main function is the point of executing a python program.\n",
    "- it works only when the program is executed directly (i.e., as a Python script, not as a module imported in other scripts).\n",
    "- The name variable is a special variable of Python, evaluating the name of current program.\n",
    "- It also takes \"__ main __\" when a script is executed directly"
   ]
  },
  {
   "cell_type": "code",
   "execution_count": 31,
   "id": "3f3166a7-9397-4182-9107-55870cfe8d28",
   "metadata": {},
   "outputs": [
    {
     "name": "stdout",
     "output_type": "stream",
     "text": [
      "The area and circumference of a circle with 5cm radius    are 78.54cm squared and 31.416cm.\n",
      "Main function is executed!\n"
     ]
    },
    {
     "data": {
      "text/plain": [
       "'__main__'"
      ]
     },
     "execution_count": 31,
     "metadata": {},
     "output_type": "execute_result"
    }
   ],
   "source": [
    "def main(x):\n",
    "    \"\"\"An exercise of main function\"\"\"\n",
    "    print(f'The area and circumference of a circle with {x}cm radius\\\n",
    "    are {circle(x)[0]:.2f}cm squared and {circle(x)[1]:.3f}cm.')\n",
    "    print('Main function is executed!')\n",
    "    \n",
    "#if __name__ == '__main__':\n",
    "#    main(3)\n",
    "main(5); __name__"
   ]
  },
  {
   "cell_type": "code",
   "execution_count": 33,
   "id": "5567b1d3-f249-48a6-a961-1e999e7189d8",
   "metadata": {},
   "outputs": [
    {
     "name": "stdout",
     "output_type": "stream",
     "text": [
      "The area and circumference of a circle with 4cm radius    are 50.27cm squared and 25.133cm.\n",
      "Main function is executed!\n"
     ]
    }
   ],
   "source": [
    "# When a source file is run as a main program, the source file program has the name, __main__.\n",
    "# And if clause becomes True and the main function is executed.\n",
    "%run main_function.py #or %run -i main_function.py\n",
    "#!python main_function.py"
   ]
  },
  {
   "cell_type": "code",
   "execution_count": 34,
   "id": "cd74fd0e-a287-4654-89f2-548bfb9f74fe",
   "metadata": {},
   "outputs": [
    {
     "name": "stdout",
     "output_type": "stream",
     "text": [
      "(78.53981633974483, 31.41592653589793)\n",
      "main_function\n"
     ]
    }
   ],
   "source": [
    "import main_function as mf\n",
    "print(mf.circle(5))\n",
    "print(mf.__name__)"
   ]
  },
  {
   "cell_type": "markdown",
   "id": "56d63b58-eeb6-455d-aead-f101c9d24fdd",
   "metadata": {},
   "source": [
    "__5. Python standard libraries__\n",
    "- https://docs.python.org/3/library/\n",
    "- popular ones are math, random, csv, decimal, datetime, json, statistics, etc.\n",
    "- Math module: https://docs.python.org/3/library/math.html"
   ]
  },
  {
   "cell_type": "markdown",
   "id": "9f5f1d5c-4f1b-4f7f-9c31-162addc4edf2",
   "metadata": {},
   "source": [
    "__6. Using tab key for completing identifiers__\n",
    "- ma+Tab key will show a list of identifiers starting with 'ma'.\n",
    "- Looking up functions in a library with Tab key, e.g., math.Tab key. There are functions and instants(constants).\n",
    "- Questioning a function with the question mark, ?."
   ]
  },
  {
   "cell_type": "code",
   "execution_count": 35,
   "id": "c6294ae4-457c-496e-a691-04dc3e65f3c4",
   "metadata": {},
   "outputs": [
    {
     "ename": "NameError",
     "evalue": "name 'ma' is not defined",
     "output_type": "error",
     "traceback": [
      "\u001b[1;31m---------------------------------------------------------------------------\u001b[0m",
      "\u001b[1;31mNameError\u001b[0m                                 Traceback (most recent call last)",
      "\u001b[1;32m~\\AppData\\Local\\Temp/ipykernel_2980/3347649469.py\u001b[0m in \u001b[0;36m<module>\u001b[1;34m\u001b[0m\n\u001b[1;32m----> 1\u001b[1;33m \u001b[0mma\u001b[0m\u001b[1;33m\u001b[0m\u001b[1;33m\u001b[0m\u001b[0m\n\u001b[0m",
      "\u001b[1;31mNameError\u001b[0m: name 'ma' is not defined"
     ]
    }
   ],
   "source": [
    "ma"
   ]
  },
  {
   "cell_type": "code",
   "execution_count": 36,
   "id": "0e3e7a87-3d48-467d-8b6e-b00db7cfc1c2",
   "metadata": {},
   "outputs": [
    {
     "ename": "SyntaxError",
     "evalue": "invalid syntax (Temp/ipykernel_2980/1415246923.py, line 1)",
     "output_type": "error",
     "traceback": [
      "\u001b[1;36m  File \u001b[1;32m\"C:\\Users\\yeswo\\AppData\\Local\\Temp/ipykernel_2980/1415246923.py\"\u001b[1;36m, line \u001b[1;32m1\u001b[0m\n\u001b[1;33m    math.?\u001b[0m\n\u001b[1;37m         ^\u001b[0m\n\u001b[1;31mSyntaxError\u001b[0m\u001b[1;31m:\u001b[0m invalid syntax\n"
     ]
    }
   ],
   "source": [
    "math.?"
   ]
  },
  {
   "cell_type": "code",
   "execution_count": 38,
   "id": "aeedec83-5ef1-47a8-bcad-35d4d27fc08c",
   "metadata": {},
   "outputs": [
    {
     "data": {
      "text/plain": [
       "\u001b[1;31mSignature:\u001b[0m \u001b[0mmath\u001b[0m\u001b[1;33m.\u001b[0m\u001b[0mfabs\u001b[0m\u001b[1;33m(\u001b[0m\u001b[0mx\u001b[0m\u001b[1;33m,\u001b[0m \u001b[1;33m/\u001b[0m\u001b[1;33m)\u001b[0m\u001b[1;33m\u001b[0m\u001b[1;33m\u001b[0m\u001b[0m\n",
       "\u001b[1;31mDocstring:\u001b[0m Return the absolute value of the float x.\n",
       "\u001b[1;31mType:\u001b[0m      builtin_function_or_method\n"
      ]
     },
     "metadata": {},
     "output_type": "display_data"
    }
   ],
   "source": [
    "math.fabs?"
   ]
  },
  {
   "cell_type": "markdown",
   "id": "cafd7841-7f03-46ba-aa31-12cba1828925",
   "metadata": {},
   "source": [
    "__7. Methods in Python__\n",
    "- Methods are functions you can call on your object.\n",
    "- syntax: Your_object_name.method_name(arguments)."
   ]
  },
  {
   "cell_type": "code",
   "execution_count": 39,
   "id": "f76867b7-4f98-4785-adf5-60edbed8308b",
   "metadata": {},
   "outputs": [
    {
     "name": "stdout",
     "output_type": "stream",
     "text": [
      "jeong wooyoung JEONG WOOYOUNG Jeong Wooyoung\n"
     ]
    }
   ],
   "source": [
    "my_name = 'Jeong Wooyoung'\n",
    "print(my_name.lower(), my_name.upper(), my_name)"
   ]
  },
  {
   "cell_type": "markdown",
   "id": "f4a705e7-d184-447f-ad90-7f564907dab2",
   "metadata": {},
   "source": [
    "__8. Random number generation in Python__"
   ]
  },
  {
   "cell_type": "code",
   "execution_count": 41,
   "id": "71d0c218-6228-40e4-93bd-c792d0bc3ad4",
   "metadata": {},
   "outputs": [
    {
     "name": "stdout",
     "output_type": "stream",
     "text": [
      "1 6 2 5 6 6 2 3 6 5 "
     ]
    }
   ],
   "source": [
    "#importing random module\n",
    "import random\n",
    "\n",
    "for roll in range(10): # Extracting ten random numbers in [1 and 6].\n",
    "    print(random.randrange(1, 7), end = ' ')\n",
    "# randrage built-in function generates integers within a range"
   ]
  },
  {
   "cell_type": "code",
   "execution_count": 44,
   "id": "f6207099-001c-4e37-b00e-a920c91a2971",
   "metadata": {},
   "outputs": [
    {
     "name": "stdout",
     "output_type": "stream",
     "text": [
      "Face    Frequency     Ratio\n",
      "   0         5003     50.03\n",
      "   1         4997     49.97\n"
     ]
    }
   ],
   "source": [
    "### Roll a coin 10,000 times ###\n",
    "\n",
    "frequency0 = 0\n",
    "frequency1 = 0\n",
    "sample = 10_000\n",
    "\n",
    "for roll in range(sample):\n",
    "    face = random.randrange(0,2)\n",
    "    if face == 0:\n",
    "        frequency0 += 1\n",
    "    else:\n",
    "        frequency1 += 1\n",
    "        \n",
    "print(f'{\"Face\"}{\"Frequency\":>13}{\"Ratio\":>10}')\n",
    "print(f'{0:>4}{frequency0:>13}{frequency0/sample*100:>10.2f}')\n",
    "print(f'{1:>4}{frequency1:>13}{frequency1/sample*100:>10.2f}')\n",
    "# A tip for f-string use\n",
    "# for right alignment, use >.\n",
    "# for left alignment, use <."
   ]
  },
  {
   "cell_type": "code",
   "execution_count": 54,
   "id": "0896685c-a3ec-44fc-a075-cc53afdf0134",
   "metadata": {},
   "outputs": [
    {
     "name": "stdout",
     "output_type": "stream",
     "text": [
      "2 2 5 1 3 1 6 5 1 3 \n",
      "4 2 5 5 2 2 5 5 2 6 "
     ]
    }
   ],
   "source": [
    "# Using seed function to generate the same random numbers\n",
    "random.seed(20220301)\n",
    "\n",
    "for roll in range(10):\n",
    "    print(random.randrange(1, 7), end = ' ')\n",
    "    \n",
    "print()\n",
    "for roll in range(10):\n",
    "    print(random.randrange(1, 7), end = ' ')"
   ]
  },
  {
   "cell_type": "code",
   "execution_count": 51,
   "id": "cbd90f22-a6e0-479d-978d-8c4e160cb4d7",
   "metadata": {},
   "outputs": [
    {
     "name": "stdout",
     "output_type": "stream",
     "text": [
      "6 4 4 3 3 3 3 4 1 1 "
     ]
    }
   ],
   "source": [
    "for roll in range(10):\n",
    "    print(random.randrange(1, 7), end = ' ')"
   ]
  },
  {
   "cell_type": "markdown",
   "id": "36bdefb4-a76f-45e4-8ac7-c3cb4b930e4a",
   "metadata": {},
   "source": [
    "__9. Importing libraries and modules in Python__\n",
    "- importing library_name (import math, to use functions math.pi)\n",
    "- importing specific functions or constants of a library (from math import ceil, sum --> you can just use imported function or instance names.)\n",
    "- importing a library with an abbreviated name (import statistics a stat, stat.mean())"
   ]
  },
  {
   "cell_type": "code",
   "execution_count": 55,
   "id": "80b93a62-a23c-4a55-ad43-ca719df2f3b1",
   "metadata": {},
   "outputs": [
    {
     "name": "stdout",
     "output_type": "stream",
     "text": [
      "3.141592653589793 10 9\n",
      "4\n"
     ]
    }
   ],
   "source": [
    "#import math\n",
    "from math import ceil, floor, pi\n",
    "import statistics as stat\n",
    "\n",
    "print(pi, ceil(9.8), floor(9.8))\n",
    "x = [3,4,5]\n",
    "print(stat.mean(x))"
   ]
  },
  {
   "cell_type": "code",
   "execution_count": null,
   "id": "0578a909-3e78-4e58-8ace-02aa078d54da",
   "metadata": {},
   "outputs": [],
   "source": []
  }
 ],
 "metadata": {
  "kernelspec": {
   "display_name": "Python 3 (ipykernel)",
   "language": "python",
   "name": "python3"
  },
  "language_info": {
   "codemirror_mode": {
    "name": "ipython",
    "version": 3
   },
   "file_extension": ".py",
   "mimetype": "text/x-python",
   "name": "python",
   "nbconvert_exporter": "python",
   "pygments_lexer": "ipython3",
   "version": "3.7.11"
  }
 },
 "nbformat": 4,
 "nbformat_minor": 5
}
