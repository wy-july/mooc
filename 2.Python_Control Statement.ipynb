{
 "cells": [
  {
   "cell_type": "markdown",
   "id": "8020c0c9-2b85-4519-8a91-328cd57b726c",
   "metadata": {},
   "source": [
    "## Python: Control Statements\n",
    "- control statements: if...elif...else, while, for, break and continue\n",
    "- Additionally, we learn formatted strings, augmented assignments"
   ]
  },
  {
   "cell_type": "markdown",
   "id": "536d82dc-953a-494e-98cd-0249fbbd6076",
   "metadata": {},
   "source": [
    "__1. if...elif...else__"
   ]
  },
  {
   "cell_type": "code",
   "execution_count": 5,
   "id": "8c28bfa2-4db0-478e-9f43-3ccf14f380a6",
   "metadata": {},
   "outputs": [
    {
     "name": "stdin",
     "output_type": "stream",
     "text": [
      "Type your weight 59\n"
     ]
    },
    {
     "name": "stdout",
     "output_type": "stream",
     "text": [
      "thin\n",
      "Eat more!\n"
     ]
    }
   ],
   "source": [
    "# Classifying weight categories\n",
    "weight = int(input('Type your weight'))\n",
    "\n",
    "if weight >= 90:\n",
    "    print('fat!', 'Exercise!')\n",
    "elif weight >= 60:\n",
    "    print('normal')\n",
    "else:\n",
    "    print('thin')\n",
    "    print('Eat more!')"
   ]
  },
  {
   "cell_type": "code",
   "execution_count": 8,
   "id": "b744e79d-42d1-4670-bb99-2015d0b0e888",
   "metadata": {},
   "outputs": [
    {
     "name": "stdin",
     "output_type": "stream",
     "text": [
      "Enter a grade 50\n"
     ]
    },
    {
     "name": "stdout",
     "output_type": "stream",
     "text": [
      "F\n"
     ]
    }
   ],
   "source": [
    "# Converting total grades into letter grades\n",
    "\n",
    "grade = float(input('Enter a grade'))\n",
    "\n",
    "if grade >= 90:\n",
    "    print('A')\n",
    "if 90 > grade >= 80:\n",
    "    print('B')\n",
    "if 80 > grade >= 70:\n",
    "    print('C')\n",
    "if 70 > grade >= 60:\n",
    "    print('D')\n",
    "if grade < 60:\n",
    "    print('F')\n",
    "#else:\n",
    "#    print('F')"
   ]
  },
  {
   "cell_type": "code",
   "execution_count": 13,
   "id": "0e81a4c6-e377-4b4d-bc90-b0d8d7d31fbf",
   "metadata": {},
   "outputs": [
    {
     "name": "stdin",
     "output_type": "stream",
     "text": [
      "Enter an integer grade 50\n"
     ]
    },
    {
     "name": "stdout",
     "output_type": "stream",
     "text": [
      "F\n"
     ]
    }
   ],
   "source": [
    "grade1 = int(input('Enter an integer grade'))\n",
    "\n",
    "if grade1 >= 90:\n",
    "    print('A')\n",
    "elif grade1 >= 80:\n",
    "    print('B')\n",
    "elif grade1 >= 70:\n",
    "    print('C')\n",
    "elif grade1 >= 60:\n",
    "    print('D')\n",
    "else:\n",
    "    print('F')\n",
    "# This is faster than the case above. WHy?\n"
   ]
  },
  {
   "cell_type": "code",
   "execution_count": 17,
   "id": "f148de5e-4c19-4c94-b51c-9435e33dd57c",
   "metadata": {},
   "outputs": [
    {
     "name": "stdin",
     "output_type": "stream",
     "text": [
      "Type your weight in kg 55\n",
      "Type your height in cm 180\n"
     ]
    },
    {
     "name": "stdout",
     "output_type": "stream",
     "text": [
      "thin!\n",
      "Eat more!\n"
     ]
    }
   ],
   "source": [
    "# Using a more complex conditions with Boolean operators\n",
    "weight = int(input('Type your weight in kg'))\n",
    "height = int(input('Type your height in cm'))\n",
    "\n",
    "if weight >= 90 and height <=150:\n",
    "    print('fat!', 'Exercise')\n",
    "elif weight >= 60 or 160 <= height < 180:\n",
    "    print('normal')\n",
    "else:\n",
    "    print('thin!')\n",
    "    print('Eat more!')"
   ]
  },
  {
   "cell_type": "markdown",
   "id": "5d1d542d-701a-4ffe-8a04-f6aeac1a551f",
   "metadata": {},
   "source": [
    "__2. While statement__\n",
    "- Iteration, repeating the same suite, continues as long as a condition remains true.\n",
    "- Sentinel-controlled iteration: repeats until a sentinal(flag, signal) value appears."
   ]
  },
  {
   "cell_type": "code",
   "execution_count": 18,
   "id": "bb37973a-b91c-47c4-b81f-ddb74f644a33",
   "metadata": {},
   "outputs": [
    {
     "name": "stdout",
     "output_type": "stream",
     "text": [
      "2\n",
      "4\n",
      "8\n",
      "16\n",
      "32\n",
      "64\n",
      "128\n"
     ]
    }
   ],
   "source": [
    "# Calculating powers of 2\n",
    "k = 1 # initializing k\n",
    "\n",
    "while k <= 100:\n",
    "    k = k*2\n",
    "    print(k) # Depending on indentation level, outcome changes"
   ]
  },
  {
   "cell_type": "code",
   "execution_count": 19,
   "id": "49afa3ec-6cdb-4690-aa7d-0a5871d75f03",
   "metadata": {},
   "outputs": [
    {
     "name": "stdout",
     "output_type": "stream",
     "text": [
      "9 8 7 6 5 4 3 2 1 0 "
     ]
    }
   ],
   "source": [
    "# Subtracting 1 repeatedly\n",
    "l = 10\n",
    "while l > 0:\n",
    "    l = l - 1\n",
    "    print(l, end = ' ') # printing horizontally"
   ]
  },
  {
   "cell_type": "code",
   "execution_count": 26,
   "id": "fbd804d2-43d4-4a8a-8677-1683340f0e4a",
   "metadata": {},
   "outputs": [
    {
     "name": "stdin",
     "output_type": "stream",
     "text": [
      "Enter grade or -1 to end:  20\n",
      "Enter grade or -1 to end:  50\n",
      "Enter grade or -1 to end:  90\n",
      "Enter grade or -1 to end:  85\n",
      "Enter grade or -1 to end:  65\n",
      "Enter grade or -1 to end:  -1\n"
     ]
    },
    {
     "name": "stdout",
     "output_type": "stream",
     "text": [
      "Total grade is 310\n",
      "The number of students is 5\n",
      "Class Average is 62.0\n"
     ]
    }
   ],
   "source": [
    "# Calculating the class average grade of an arbitrary number of students\n",
    "total = 0\n",
    "counter = 0\n",
    "\n",
    "# Taking grades\n",
    "grade = int(input('Enter grade or -1 to end: '))\n",
    "\n",
    "while grade != -1:\n",
    "    total += grade\n",
    "    counter += 1\n",
    "    grade = int(input('Enter grade or -1 to end: '))\n",
    "    \n",
    "# calculating the average and printing results\n",
    "if counter != 0:\n",
    "    average = total/counter\n",
    "    print('Total grade is', total)\n",
    "    print('The number of students is', counter)\n",
    "    print(f'Class Average is {average}') # a formatted string\n",
    "else:\n",
    "          print('No grades were entered')"
   ]
  },
  {
   "cell_type": "markdown",
   "id": "99e249d3-d764-4fde-90fb-393b551347ef",
   "metadata": {},
   "source": [
    "__3. For loop for iteration__\n",
    "- Collection based iteration\n",
    "- Repeat actions for each item in a sequence of items."
   ]
  },
  {
   "cell_type": "code",
   "execution_count": 27,
   "id": "f2abb1a9-63e5-47a4-b169-885613338813",
   "metadata": {},
   "outputs": [
    {
     "name": "stdout",
     "output_type": "stream",
     "text": [
      "item : 1\n",
      "item : 2\n",
      "item : 3\n",
      "item : 4\n",
      "item : 5\n",
      "letters : A\n",
      "letters : B\n",
      "letters : C\n",
      "letters : D\n"
     ]
    }
   ],
   "source": [
    "for item in [1,2,3,4,5]: # The list is a collection\n",
    "    print(\"item :\", item)\n",
    "    \n",
    "letters = ['A','B','C','D']\n",
    "for i in letters:\n",
    "    print(\"letters :\", i)"
   ]
  },
  {
   "cell_type": "code",
   "execution_count": 30,
   "id": "45b2dbe4-5ce4-4cb9-8174-fb8639fe8e69",
   "metadata": {},
   "outputs": [
    {
     "name": "stdout",
     "output_type": "stream",
     "text": [
      "Each letter : A\n",
      "Each letter : B\n",
      "Each letter : C\n",
      "Each letter : D\n",
      "P y t h o n P r o g r a m i n g \n",
      "25\n"
     ]
    }
   ],
   "source": [
    "for i in range(len(letters)):\n",
    "    print(\"Each letter :\",letters[i])\n",
    "               \n",
    "for i in 'PythonPrograming':\n",
    "    print(i, end=' ')\n",
    "\n",
    "print()\n",
    "total = 0\n",
    "for number in [2, -3, 0, 17, 9]:\n",
    "    total = total + number\n",
    "print(total)"
   ]
  },
  {
   "cell_type": "markdown",
   "id": "28b522ba-c7d4-446d-991e-d16ed44e6700",
   "metadata": {},
   "source": [
    "__4. Augmented assignment__\n",
    "- a+=2 equivalent as a = a + 2\n",
    "- a-=2 equivalent as a = a - 2\n",
    "- a*=2 equivalent as a = a * 2\n",
    "- a**=2 equivalent as a = a ** 2\n",
    "- a/=2 equivalent as a = a / 2\n",
    "- a//=2 equivalent as a = a // 2\n",
    "- a%=2 equivalent as a = a % 2"
   ]
  },
  {
   "cell_type": "code",
   "execution_count": 31,
   "id": "cb224bf8-4a58-4d54-8751-da9dd44d7ec6",
   "metadata": {},
   "outputs": [
    {
     "name": "stdout",
     "output_type": "stream",
     "text": [
      "0 1 2 3 4 5 6 7 8 9 "
     ]
    },
    {
     "data": {
      "text/plain": [
       "45"
      ]
     },
     "execution_count": 31,
     "metadata": {},
     "output_type": "execute_result"
    }
   ],
   "source": [
    "total = 0\n",
    "for i in range(10): # range creates integers from 0 to the argument value - 1.\n",
    "    print(i, end=' ')\n",
    "    total += i # addition augmented assignments\n",
    "total\n",
    "# What if we use sum instead of total?\n",
    "# Shadowing (built-in) functions! Cannot use sum built-in function"
   ]
  },
  {
   "cell_type": "markdown",
   "id": "84074c2d-5eec-40f2-9fe5-df639287c345",
   "metadata": {},
   "source": [
    "__5. Making a for loop with augmented assignments__"
   ]
  },
  {
   "cell_type": "code",
   "execution_count": 32,
   "id": "6f6c09f6-5071-4460-b194-9838115c5ce9",
   "metadata": {},
   "outputs": [
    {
     "name": "stdout",
     "output_type": "stream",
     "text": [
      "Class average is 81.70\n",
      "Average is 81.70\n"
     ]
    }
   ],
   "source": [
    "# Class average calculation\n",
    "total = 0\n",
    "NumStudents = 0\n",
    "grades = [98,76,71,87,83,90,57,79,82,94]\n",
    "for i in grades:\n",
    "    total += i\n",
    "    NumStudents += 1\n",
    "average = total/NumStudents\n",
    "print(f'Class average is {average:.2f}')\n",
    "print(f'Average is {total/NumStudents:.2f}')\n",
    "    "
   ]
  },
  {
   "cell_type": "markdown",
   "id": "08fec44a-a8a7-4d1b-8770-65f6975de1dc",
   "metadata": {},
   "source": [
    "__6. A built-in function, range__"
   ]
  },
  {
   "cell_type": "code",
   "execution_count": 34,
   "id": "f2db87f2-6ae3-4fb2-a85b-6bf8f17284c8",
   "metadata": {},
   "outputs": [
    {
     "name": "stdout",
     "output_type": "stream",
     "text": [
      "7, 8, 9, 10, 11, 12, 13, 14, 15, 16, 17, 18, 19, \n",
      "10, 13, 16, 19, \n",
      "15, 13, 11, 9, 7, 5, 3, 1, "
     ]
    }
   ],
   "source": [
    "# One argument version: above\n",
    "\n",
    "# Two argument version\n",
    "for i in range(7, 20): # a starting value and an ending value\n",
    "    print(i, end = ', ')\n",
    "    \n",
    "# Three argument version\n",
    "print()\n",
    "for i in range(10, 20, 3): # the third argument specifies a step of increase\n",
    "    print(i, end = ', ')\n",
    "    \n",
    "print()\n",
    "for i in range(15, 0, -2):\n",
    "    print(i, end = ', ')"
   ]
  },
  {
   "cell_type": "markdown",
   "id": "0f59c64f-c3e7-4363-b2cf-0ca1759f0b90",
   "metadata": {},
   "source": [
    "__7. Advanced use of while and for loops__\n",
    "- Break: terminates loops immediately.\n",
    "- Continue: terminates loops immediately, jumps to the top of the loop and continues.\n",
    "- In while and for loops, else can be used."
   ]
  },
  {
   "cell_type": "code",
   "execution_count": 35,
   "id": "2745786c-7ab6-4d01-b5bf-5b52fa2d1ee9",
   "metadata": {},
   "outputs": [
    {
     "name": "stdout",
     "output_type": "stream",
     "text": [
      "9 8 7 6 5 4 3 2 1 0 \n",
      "Loop ended 0\n"
     ]
    }
   ],
   "source": [
    "l = 10\n",
    "while l > 0:\n",
    "    l = l - 1\n",
    "    print(l, end = ' ')\n",
    "print()\n",
    "print('Loop ended', l)"
   ]
  },
  {
   "cell_type": "code",
   "execution_count": 36,
   "id": "9fb13daa-ef73-4580-bd0b-a6905fc26b0d",
   "metadata": {},
   "outputs": [
    {
     "name": "stdout",
     "output_type": "stream",
     "text": [
      "9 8 7 6 \n",
      "Loop ended 5\n"
     ]
    }
   ],
   "source": [
    "l = 10\n",
    "while l > 0:\n",
    "    l = l - 1\n",
    "    if l == 5:\n",
    "        break\n",
    "    print(l, end = ' ')\n",
    "print()\n",
    "print('Loop ended', l)"
   ]
  },
  {
   "cell_type": "code",
   "execution_count": 1,
   "id": "78ed55a0-d9ca-440b-ae3d-e7408e3ec5b6",
   "metadata": {},
   "outputs": [
    {
     "name": "stdout",
     "output_type": "stream",
     "text": [
      "9 8 7 6 4 3 2 1 0 \n",
      "Loop ended 0\n"
     ]
    }
   ],
   "source": [
    "l = 10\n",
    "while l > 0:\n",
    "    l = l - 1\n",
    "    if l == 5:\n",
    "        continue\n",
    "    print(l, end = ' ')\n",
    "print()\n",
    "print('Loop ended', l)"
   ]
  },
  {
   "cell_type": "code",
   "execution_count": 2,
   "id": "891ca547-f86d-41c0-b959-874ce44e0f8b",
   "metadata": {},
   "outputs": [
    {
     "name": "stdout",
     "output_type": "stream",
     "text": [
      "9 8 7 6 5 4 3 2 1 0 Loop ended 0\n"
     ]
    }
   ],
   "source": [
    "l = 10\n",
    "while l > 0:\n",
    "    l = l - 1\n",
    "    print(l, end = ' ')\n",
    "else:\n",
    "    print('Loop ended', 0)"
   ]
  },
  {
   "cell_type": "code",
   "execution_count": 1,
   "id": "2dac2b04-d971-40e2-b40c-6021087cc4ef",
   "metadata": {},
   "outputs": [
    {
     "name": "stdout",
     "output_type": "stream",
     "text": [
      "9 8 7 6 "
     ]
    }
   ],
   "source": [
    "l = 10\n",
    "while l > 0:\n",
    "    l = l - 1\n",
    "    if l == 5:\n",
    "        break\n",
    "    print(l, end = ' ')\n",
    "else:\n",
    "    print('Loop ended', 1)"
   ]
  },
  {
   "cell_type": "code",
   "execution_count": 4,
   "id": "a44c013d-f1bb-444e-bd9a-8d6728f095ac",
   "metadata": {},
   "outputs": [
    {
     "name": "stdout",
     "output_type": "stream",
     "text": [
      "P y t h o n P r o g r a m m i n g "
     ]
    }
   ],
   "source": [
    "for i in 'PythonProgramming':\n",
    "    print(i, end=' ')"
   ]
  },
  {
   "cell_type": "code",
   "execution_count": 6,
   "id": "955850cf-5cd5-4ed8-bc8b-d335c3bbc327",
   "metadata": {},
   "outputs": [
    {
     "name": "stdout",
     "output_type": "stream",
     "text": [
      "P y t h o n P r o "
     ]
    }
   ],
   "source": [
    "for i in 'PythonProgramming':\n",
    "    if i == 'g':\n",
    "        break\n",
    "    print(i, end=' ')"
   ]
  },
  {
   "cell_type": "code",
   "execution_count": 7,
   "id": "298f269e-b123-4b80-90e7-38722519d61b",
   "metadata": {},
   "outputs": [
    {
     "name": "stdout",
     "output_type": "stream",
     "text": [
      "P y t h o P r o g r a m m i g "
     ]
    }
   ],
   "source": [
    "for i in 'PythonProgramming':\n",
    "    if i == 'n':\n",
    "        continue\n",
    "    print(i, end=' ')"
   ]
  },
  {
   "cell_type": "code",
   "execution_count": null,
   "id": "e4b40bd1-6bf2-4375-8abd-fb1ca3bca7d5",
   "metadata": {},
   "outputs": [],
   "source": []
  }
 ],
 "metadata": {
  "kernelspec": {
   "display_name": "Python 3 (ipykernel)",
   "language": "python",
   "name": "python3"
  },
  "language_info": {
   "codemirror_mode": {
    "name": "ipython",
    "version": 3
   },
   "file_extension": ".py",
   "mimetype": "text/x-python",
   "name": "python",
   "nbconvert_exporter": "python",
   "pygments_lexer": "ipython3",
   "version": "3.7.11"
  }
 },
 "nbformat": 4,
 "nbformat_minor": 5
}
