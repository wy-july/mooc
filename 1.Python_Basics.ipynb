{
 "cells": [
  {
   "cell_type": "markdown",
   "id": "e93d5d33-1ff6-4477-804e-3915ee862bee",
   "metadata": {},
   "source": [
    "## Python Basics"
   ]
  },
  {
   "cell_type": "markdown",
   "id": "a19ea8cb-dbaf-4248-b8a5-dfe084172368",
   "metadata": {},
   "source": [
    "__1. Correct indentation and strings__\n",
    "- Strings are used for storing and representing text data."
   ]
  },
  {
   "cell_type": "code",
   "execution_count": 1,
   "id": "1dfed040-0d7e-406f-89f3-a1a258b821cc",
   "metadata": {},
   "outputs": [
    {
     "name": "stdout",
     "output_type": "stream",
     "text": [
      "This Kooc is an excellent course\n",
      "Course name \n",
      "is Practical Python\n",
      "Those who don't take this Kooc would regret their decisions\n"
     ]
    }
   ],
   "source": [
    "print('This Kooc is an excellent course')\n",
    "print(\"Course name \\nis Practical Python\")\n",
    "print(\"Those who don't take this Kooc would regret their decisions\")"
   ]
  },
  {
   "cell_type": "markdown",
   "id": "fd0bd3de-4620-4a19-ac6c-8997ab46c5ad",
   "metadata": {},
   "source": [
    "__2. Integers, floats and decimals: using Python as a calculator__\n",
    "- Variable names are identifiers, so they follow the rules of identifier.\n",
    "- Variables store values such as strings, numbers, and other data types.\n",
    "- Use a hash, #, to write memos in a line."
   ]
  },
  {
   "cell_type": "code",
   "execution_count": 2,
   "id": "e75f139b-a5c1-4e54-8e1d-8b6e320142ce",
   "metadata": {},
   "outputs": [
    {
     "data": {
      "text/plain": [
       "40"
      ]
     },
     "execution_count": 2,
     "metadata": {},
     "output_type": "execute_result"
    }
   ],
   "source": [
    "# addition: using a hash(#) sign, you can write memos.\n",
    "23+17"
   ]
  },
  {
   "cell_type": "code",
   "execution_count": 3,
   "id": "545defbe-24fc-4fb0-8280-d79d68759e81",
   "metadata": {},
   "outputs": [
    {
     "data": {
      "text/plain": [
       "0.6666666666666666"
      ]
     },
     "execution_count": 3,
     "metadata": {},
     "output_type": "execute_result"
    }
   ],
   "source": [
    "2/3"
   ]
  },
  {
   "cell_type": "code",
   "execution_count": 4,
   "id": "084bd8e5-26df-4aa7-9695-7f1465d2e09c",
   "metadata": {},
   "outputs": [
    {
     "name": "stdout",
     "output_type": "stream",
     "text": [
      "40\n",
      "40 6 391 1.3529411764705883\n"
     ]
    }
   ],
   "source": [
    "x = 23; y = 17\n",
    "print(x + y)\n",
    "print(x + y, x-y, x * y, x/y)"
   ]
  },
  {
   "cell_type": "markdown",
   "id": "fd2b6948-0810-43aa-97fd-daa96918f3a9",
   "metadata": {},
   "source": [
    "__3. Data types and simple use of print function__"
   ]
  },
  {
   "cell_type": "code",
   "execution_count": 5,
   "id": "0900cafb-8906-4d76-a3d6-aaea9f00ae47",
   "metadata": {},
   "outputs": [
    {
     "name": "stdout",
     "output_type": "stream",
     "text": [
      "y + z = 12.5\n",
      "z -y = 2.5\n",
      "y * z = 37.5\n",
      "z / y= 1.5\n",
      "y**2 = 25\n",
      "z//y = 1.0\n",
      "z%y = 2.5\n",
      "<class 'int'>\n",
      "<class 'float'>\n"
     ]
    }
   ],
   "source": [
    "# Addition\n",
    "y = 5   # assign a value to the variable y.\n",
    "z = 7.5\n",
    "print(\"y + z =\", y + z)\n",
    "# Subtraction\n",
    "print(\"z -y =\", z -y)\n",
    "# Multiplication\n",
    "print(\"y * z =\", y * z)\n",
    "# Division\n",
    "print(\"z / y=\", z/y)\n",
    "# Exponent\n",
    "print(\"y**2 =\", y**2)\n",
    "# Floor division: returns the highest integer, not greater than the result\n",
    "print('z//y =', z//y)\n",
    "# Remainder\n",
    "print('z%y =', z%y)\n",
    "print(type(y))\n",
    "print(type(z))"
   ]
  },
  {
   "cell_type": "markdown",
   "id": "e752ae44-7893-49ee-83c4-1e59065942eb",
   "metadata": {},
   "source": [
    "__4. String, Boolean, and triple quoted strings__\n",
    "- Boolean expression\n",
    "- \"\"\" are used to write multiple line strings \"\"\".\n",
    "- Is also used for docstrings."
   ]
  },
  {
   "cell_type": "code",
   "execution_count": 6,
   "id": "f965bedc-9220-4b2f-9d12-c2c7cd106a85",
   "metadata": {},
   "outputs": [
    {
     "name": "stdout",
     "output_type": "stream",
     "text": [
      "True\n",
      "False\n",
      "<class 'bool'> True\n"
     ]
    }
   ],
   "source": [
    "print(7 > 3)\n",
    "print(3 > 7)\n",
    "x = 7 > 3\n",
    "print(type(x), x)"
   ]
  },
  {
   "cell_type": "code",
   "execution_count": 7,
   "id": "ffd2f765-b0fe-48a4-9b20-49c813acee00",
   "metadata": {},
   "outputs": [
    {
     "data": {
      "text/plain": [
       "'Triple quoted strings are used to write multiple line strings.\\nThis is an example of a doc string.'"
      ]
     },
     "execution_count": 7,
     "metadata": {},
     "output_type": "execute_result"
    }
   ],
   "source": [
    "\"\"\"Triple quoted strings are used to write multiple line strings.\n",
    "This is an example of a doc string.\"\"\""
   ]
  },
  {
   "cell_type": "code",
   "execution_count": 8,
   "id": "4b4e77aa-834c-4b50-80df-c83275e26cae",
   "metadata": {},
   "outputs": [
    {
     "data": {
      "text/plain": [
       "'\\na + b = c\\nd + e = g\\n'"
      ]
     },
     "execution_count": 8,
     "metadata": {},
     "output_type": "execute_result"
    }
   ],
   "source": [
    "\"\"\"\n",
    "a + b = c\n",
    "d + e = g\n",
    "\"\"\""
   ]
  },
  {
   "cell_type": "markdown",
   "id": "381c19d3-7aa5-4474-b7ab-12adf8e0f7fb",
   "metadata": {},
   "source": [
    "__5. Taking input values__"
   ]
  },
  {
   "cell_type": "code",
   "execution_count": 9,
   "id": "335540f4-5994-4c3f-8e87-ae4a36a96d69",
   "metadata": {},
   "outputs": [
    {
     "name": "stdin",
     "output_type": "stream",
     "text": [
      "What is your name? JWY\n"
     ]
    },
    {
     "name": "stdout",
     "output_type": "stream",
     "text": [
      "JWY\n"
     ]
    }
   ],
   "source": [
    "your_name = input('What is your name?')\n",
    "print(your_name)"
   ]
  },
  {
   "cell_type": "code",
   "execution_count": 10,
   "id": "e650b084-c6bb-4468-acfb-8f09daeda471",
   "metadata": {},
   "outputs": [
    {
     "name": "stdin",
     "output_type": "stream",
     "text": [
      "How old are you? 29\n"
     ]
    },
    {
     "name": "stdout",
     "output_type": "stream",
     "text": [
      "29 <class 'str'>\n"
     ]
    }
   ],
   "source": [
    "your_age = input('How old are you?')\n",
    "print(your_age, type(your_age))"
   ]
  },
  {
   "cell_type": "code",
   "execution_count": 11,
   "id": "c42d306c-3acb-4a5b-857d-593d7818420a",
   "metadata": {},
   "outputs": [
    {
     "name": "stdin",
     "output_type": "stream",
     "text": [
      "How old am I? 30\n"
     ]
    },
    {
     "name": "stdout",
     "output_type": "stream",
     "text": [
      "2930\n"
     ]
    }
   ],
   "source": [
    "my_age = input('How old am I?')\n",
    "print(your_age+my_age)\n",
    "# string concatenation"
   ]
  },
  {
   "cell_type": "code",
   "execution_count": 12,
   "id": "2f22d6ae-20dd-4304-b523-be5ff5a0bf0e",
   "metadata": {},
   "outputs": [
    {
     "name": "stdout",
     "output_type": "stream",
     "text": [
      "59\n"
     ]
    },
    {
     "data": {
      "text/plain": [
       "21"
      ]
     },
     "execution_count": 12,
     "metadata": {},
     "output_type": "execute_result"
    }
   ],
   "source": [
    "# Turning string value to integer\n",
    "print(int(your_age)+int(my_age))\n",
    "int(21.8)\n",
    "# int function converts strings and floating numbers into integers"
   ]
  },
  {
   "cell_type": "code",
   "execution_count": 13,
   "id": "44742b55-6746-4566-8782-875f7bc2e329",
   "metadata": {},
   "outputs": [
    {
     "name": "stdout",
     "output_type": "stream",
     "text": [
      "59.0\n"
     ]
    }
   ],
   "source": [
    "print(float(your_age)+float(my_age))"
   ]
  },
  {
   "cell_type": "markdown",
   "id": "e69c6862-d595-47b0-868f-bdeb6d6f2cfc",
   "metadata": {},
   "source": [
    "__6. If clause and comparison operators__"
   ]
  },
  {
   "cell_type": "markdown",
   "id": "a17d4efc-9871-46f5-9c03-49cd17ac7a14",
   "metadata": {},
   "source": [
    "__[Comparison operators]__\n",
    "- x > y : x is greater than y\n",
    "- x < y : x is less than y\n",
    "- x >=  y : x is greater than or equal to y\n",
    "- x <=y : x is less than or equal to y\n",
    "- x == y : x is equal to y\n",
    "- x != y : x is not eqaul to y\n"
   ]
  },
  {
   "cell_type": "markdown",
   "id": "faf85785-5312-470f-b302-bb35d26fab86",
   "metadata": {},
   "source": [
    "__[If clause]__\n",
    "- if : performs an action if a condition is met (True) and no action if not.\n",
    "- if...else : same as above and returns alternative action if not."
   ]
  },
  {
   "cell_type": "code",
   "execution_count": 14,
   "id": "f616ac1e-c8f1-4e50-8a73-8923cc649057",
   "metadata": {},
   "outputs": [
    {
     "name": "stdin",
     "output_type": "stream",
     "text": [
      "Enter an integer 0\n"
     ]
    },
    {
     "name": "stdout",
     "output_type": "stream",
     "text": [
      "x does not have a value of 1\n"
     ]
    }
   ],
   "source": [
    "x = int(input('Enter an integer')) #Taking an integer\n",
    "\n",
    "if x == 1:    #if-clause\n",
    "    print('x has a value of 1')\n",
    "else:\n",
    "    print('x does not have a value of 1')"
   ]
  },
  {
   "cell_type": "code",
   "execution_count": 15,
   "id": "85c5e0ef-e92d-4a63-85b1-c10aa529788d",
   "metadata": {},
   "outputs": [
    {
     "name": "stdin",
     "output_type": "stream",
     "text": [
      "Enter the first integer -1\n"
     ]
    },
    {
     "name": "stdout",
     "output_type": "stream",
     "text": [
      "The first integer is -1 and its value is negative.\n"
     ]
    },
    {
     "name": "stdin",
     "output_type": "stream",
     "text": [
      "Enter the second integer -2\n"
     ]
    },
    {
     "name": "stdout",
     "output_type": "stream",
     "text": [
      "The second integer is negative and its value is -2\n"
     ]
    }
   ],
   "source": [
    "var1 = int(input('Enter the first integer'))\n",
    "if var1 < 0:\n",
    "    print('The first integer is', var1, 'and its value is negative.')\n",
    "    \n",
    "var2 = int(input('Enter the second integer'))\n",
    "if var2 < 0:\n",
    "    print('The second integer is negative', 'and its value is',var2)\n",
    "else:\n",
    "    print('The second integer is positive', 'and its value is',var2)"
   ]
  },
  {
   "cell_type": "markdown",
   "id": "4211c71d-4413-4cff-a3ee-f4d11f4f2a29",
   "metadata": {},
   "source": [
    "__7. Dynamic value assignment and type changing__\n",
    "- What happens if you assig different values for the same variable?"
   ]
  },
  {
   "cell_type": "code",
   "execution_count": 16,
   "id": "cc0a136c-e29b-460c-8569-4f3cfa13e234",
   "metadata": {},
   "outputs": [
    {
     "name": "stdout",
     "output_type": "stream",
     "text": [
      "0 <class 'int'>\n",
      "2.5 <class 'float'>\n",
      "Arnold <class 'str'>\n"
     ]
    }
   ],
   "source": [
    "print(x, type(x))\n",
    "\n",
    "x = 2.5\n",
    "print(x, type(x))\n",
    "\n",
    "x = 'Arnold'\n",
    "print(x, type(x))"
   ]
  },
  {
   "cell_type": "markdown",
   "id": "c865551f-c6f1-49f2-9e9b-bf8eac210d3e",
   "metadata": {},
   "source": [
    "__8. Multiple statements on a single line__\n",
    "- Separate two command lines with semicolon"
   ]
  },
  {
   "cell_type": "code",
   "execution_count": 17,
   "id": "aeb5e1d5-ecd2-4b66-825b-6b2f56910c7d",
   "metadata": {},
   "outputs": [
    {
     "name": "stdout",
     "output_type": "stream",
     "text": [
      "Hello!\n",
      "This is KOOC content \n",
      "for Python basics.\n"
     ]
    }
   ],
   "source": [
    "print(\"Hello!\"); print(\"This is KOOC content \\nfor Python basics.\")"
   ]
  },
  {
   "cell_type": "code",
   "execution_count": null,
   "id": "2614109a-a568-4fa8-b223-6d022f26cf08",
   "metadata": {},
   "outputs": [],
   "source": []
  }
 ],
 "metadata": {
  "kernelspec": {
   "display_name": "Python 3 (ipykernel)",
   "language": "python",
   "name": "python3"
  },
  "language_info": {
   "codemirror_mode": {
    "name": "ipython",
    "version": 3
   },
   "file_extension": ".py",
   "mimetype": "text/x-python",
   "name": "python",
   "nbconvert_exporter": "python",
   "pygments_lexer": "ipython3",
   "version": "3.7.11"
  }
 },
 "nbformat": 4,
 "nbformat_minor": 5
}
